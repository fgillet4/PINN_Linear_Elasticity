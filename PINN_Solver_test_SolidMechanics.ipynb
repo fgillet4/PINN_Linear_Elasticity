{
 "cells": [
  {
   "cell_type": "markdown",
   "metadata": {
    "deletable": false,
    "editable": false,
    "id": "cwFWxL93ZEkX"
   },
   "source": [
    "# Using physics informed neural networks (PINNs) to solve solid mechanics"
   ]
  },
  {
   "cell_type": "markdown",
   "metadata": {
    "deletable": false,
    "editable": false
   },
   "source": [
    "Copyright 2022 Jungang(Gordon) Chen"
   ]
  },
  {
   "cell_type": "markdown",
   "metadata": {
    "deletable": false,
    "editable": false,
    "id": "Rb1T-jMoZEkh"
   },
   "source": [
    "### 1. Import necessary packages and set problem specific data\n",
    "This code runs with TensorFlow version `2.3.0`.\n",
    "The implementation relies mainly on the scientific computing library [NumPy](https://numpy.org/doc/stable/user/whatisnumpy.html) and the machine learning library [TensorFlow](https://www.tensorflow.org/).\n",
    "\n",
    "All computations were performed on an Intel i7 CPU (8th Gen) with 16 GByte DDR3 RAM (2133 MHz) within a couple of minutes."
   ]
  },
  {
   "cell_type": "code",
   "execution_count": 1,
   "metadata": {
    "colab": {
     "base_uri": "https://localhost:8080/"
    },
    "deletable": false,
    "editable": false,
    "id": "ew5sMtOCrYbp",
    "outputId": "0dd630da-e10b-430c-f8b9-c1a873db48a7"
   },
   "outputs": [
    {
     "name": "stdout",
     "output_type": "stream",
     "text": [
      "Collecting pyDOE2\n",
      "  Downloading pyDOE2-1.3.0.tar.gz (19 kB)\n",
      "Requirement already satisfied: numpy in c:\\programdata\\anaconda3\\lib\\site-packages (from pyDOE2) (1.20.3)\n",
      "Requirement already satisfied: scipy in c:\\programdata\\anaconda3\\lib\\site-packages (from pyDOE2) (1.7.1)\n",
      "Building wheels for collected packages: pyDOE2\n",
      "  Building wheel for pyDOE2 (setup.py): started\n",
      "  Building wheel for pyDOE2 (setup.py): finished with status 'done'\n",
      "  Created wheel for pyDOE2: filename=pyDOE2-1.3.0-py3-none-any.whl size=25539 sha256=94b6ca2da16ed76fbde022f0ad51aa4a2c06ea1e43c9a24d5be37bf87e81cc30\n",
      "  Stored in directory: c:\\users\\jungangc\\appdata\\local\\pip\\cache\\wheels\\a7\\56\\10\\2dcc175569666fb8af5c210980eb5833befd399780e71e6749\n",
      "Successfully built pyDOE2\n",
      "Installing collected packages: pyDOE2\n",
      "Successfully installed pyDOE2-1.3.0\n",
      "Note: you may need to restart the kernel to use updated packages.\n"
     ]
    }
   ],
   "source": [
    "pip install pyDOE2"
   ]
  },
  {
   "cell_type": "code",
   "execution_count": 2,
   "metadata": {
    "id": "tXkjWO_yZEkj"
   },
   "outputs": [],
   "source": [
    "# Import TensorFlow and NumPy\n",
    "import tensorflow as tf\n",
    "import numpy as np\n",
    "from pyDOE2 import lhs\n",
    "\n",
    "# Set data type\n",
    "DTYPE='float64'\n",
    "tf.keras.backend.set_floatx(DTYPE)\n",
    "\n",
    "# Set constants & model parameters\n",
    "pi = tf.constant(np.pi, dtype=DTYPE)\n",
    "E = tf.constant(4e11/3, dtype=DTYPE)   # Young's modulus\n",
    "v = tf.constant(1/3, dtype=DTYPE)       # Poisson's ratio\n",
    "E = E/1e11\n",
    "lmda = tf.constant(E*v/(1-2*v)/(1+v), dtype=DTYPE)\n",
    "mu = tf.constant(E/(2*(1+v)), dtype=DTYPE)\n",
    "# viscosity = .01/pi\n",
    "Q = tf.constant(4.0, dtype=DTYPE)\n",
    "\n",
    "def u_x_ext(x, y):\n",
    "    utemp = tf.cos(2*pi*x) * tf.sin(pi*(y))\n",
    "    return utemp\n",
    "def u_y_ext(x, y):\n",
    "    utemp = tf.sin(pi*x) * Q/4*tf.pow(y,4)\n",
    "    return utemp\n",
    "def f_x_ext(x,y):\n",
    "    # gtemp = lmda*(-4*np.power(pi,2)*np.cos(2*pi*x)*np.sin(pi*y)+pi*np.cos(pi*x)*Q*np.power(y,3))+\\\n",
    "    #         mu*(-9*np.power(pi,2)*np.cos(2*pi*x)*np.sin(pi*y)+pi*np.cos(pi*x)*Q*np.power(y,3))\n",
    "    gtemp = 1.0*(-4*tf.pow(pi,2)*tf.cos(2*pi*x)*tf.sin(pi*y)+pi*tf.cos(pi*x)*Q*tf.pow(y,3))+\\\n",
    "            0.5*(-9*tf.pow(pi,2)*tf.cos(2*pi*x)*tf.sin(pi*y)+pi*tf.cos(pi*x)*Q*tf.pow(y,3))\n",
    "    return gtemp\n",
    "def f_y_ext(x,y):\n",
    "    # gtemp = lmda*(3*np.sin(pi*x)*Q*np.power(y,2)-2*np.power(pi,2)*np.sin(2*pi*x)*np.cos(pi*y))+\\\n",
    "    #         mu*(6*np.sin(pi*x)*Q*np.power(y,2)-2*np.power(pi,2)*np.sin(2*pi*x)*np.cos(pi*y)-np.power(pi,2)*np.sin(pi*x)*Q*np.power(y,4)/4)\n",
    "    gtemp = lmda*(3*tf.sin(pi*x)*Q*tf.pow(y,2)-2*tf.pow(pi,2)*tf.sin(2*pi*x)*tf.cos(pi*y))+\\\n",
    "            mu*(6*tf.sin(pi*x)*Q*tf.pow(y,2)-2*tf.pow(pi,2)*tf.sin(2*pi*x)*tf.cos(pi*y)-tf.pow(pi,2)*tf.sin(pi*x)*Q*tf.pow(y,4)/4)\n",
    "    return gtemp"
   ]
  },
  {
   "cell_type": "code",
   "execution_count": 3,
   "metadata": {
    "id": "O-5PkhxKrMF_"
   },
   "outputs": [],
   "source": [
    "# Define boundary conditions at top \n",
    "def fun_b_yy(x, y):\n",
    "    return (lmda+2*mu)*Q*tf.sin(pi*x)\n",
    "    # return (lmda+2*mu)*Q*np.sin(pi*x)"
   ]
  },
  {
   "cell_type": "code",
   "execution_count": 4,
   "metadata": {
    "colab": {
     "base_uri": "https://localhost:8080/"
    },
    "id": "4e1hOHLDrMGA",
    "outputId": "e2ebe95a-d1f7-469a-a7fd-1d2b0ad2d7fc"
   },
   "outputs": [
    {
     "data": {
      "text/plain": [
       "<tf.Tensor: shape=(), dtype=float64, numpy=3.141592653589793>"
      ]
     },
     "execution_count": 4,
     "metadata": {},
     "output_type": "execute_result"
    }
   ],
   "source": [
    "pi"
   ]
  },
  {
   "cell_type": "markdown",
   "metadata": {
    "id": "pQhmdtsqZEkj"
   },
   "source": [
    "### 2. Generate a set of collocation points\n"
   ]
  },
  {
   "cell_type": "code",
   "execution_count": 5,
   "metadata": {
    "colab": {
     "base_uri": "https://localhost:8080/"
    },
    "id": "F5DP6GVRZEkk",
    "outputId": "f6c976b2-bcd3-4354-98a0-3c41c57b64ed"
   },
   "outputs": [
    {
     "name": "stdout",
     "output_type": "stream",
     "text": [
      "(50, 2)\n"
     ]
    }
   ],
   "source": [
    "# Set number of data points\n",
    "# N_0 = 50\n",
    "N_bound = 50\n",
    "N_r = 1000\n",
    "\n",
    "# Set boundary\n",
    "xmin = 0.\n",
    "xmax = 1.\n",
    "ymin = 0.\n",
    "ymax = 1.\n",
    "\n",
    "# Lower bounds\n",
    "lb = tf.constant([xmin, ymin], dtype=DTYPE)\n",
    "# Upper bounds\n",
    "ub = tf.constant([xmax, ymax], dtype=DTYPE)\n",
    "\n",
    "# Set random seed for reproducible results\n",
    "tf.random.set_seed(0)\n",
    "\n",
    "###########################################################################\n",
    "# Boundary points\n",
    "x_up = lhs(1,samples=N_bound,random_state=123)\n",
    "y_up = np.empty(len(x_up))[:,None]\n",
    "y_up.fill(1)\n",
    "b_up = np.empty([len(x_up),2])\n",
    "print(b_up.shape)\n",
    "b_up[:,0,None] = u_x_ext(x_up, y_up)\n",
    "b_up[:,1,None] = u_y_ext(x_up, y_up)\n",
    "x_up_train = np.hstack((x_up, y_up))\n",
    "# ux_up_train = b_up[:,0, None] \n",
    "# uy_up_train = b_up[:,1, None] \n",
    "ux_up_train = np.zeros([len(x_up),1])\n",
    "Syy_up_train = fun_b_yy(x_up, y_up)\n",
    "\n",
    "x_lo = lhs(1,samples=N_bound,random_state=123)\n",
    "y_lo = np.empty(len(x_lo))[:,None]\n",
    "y_lo.fill(0)\n",
    "b_lo = np.empty([len(x_lo),2])\n",
    "b_lo[:,0, None] = u_x_ext(x_lo, y_lo)\n",
    "b_lo[:,1, None] = u_y_ext(x_lo, y_lo)\n",
    "x_lo_train = np.hstack((x_lo, y_lo))\n",
    "# ux_lo_train = b_lo[:,0, None] \n",
    "# uy_lo_train = b_lo[:,1, None] \n",
    "ux_lo_train = np.zeros([len(x_lo),1])\n",
    "uy_lo_train = np.zeros([len(x_lo),1])\n",
    "\n",
    "y_ri = lhs(1,samples=N_bound,random_state=123)\n",
    "x_ri = np.empty(len(y_ri))[:,None]\n",
    "x_ri.fill(1)\n",
    "b_ri = np.empty([len(x_ri),2])\n",
    "b_ri[:,0, None] = u_x_ext(x_ri, y_ri)\n",
    "b_ri[:,1, None] = u_y_ext(x_ri, y_ri)\n",
    "x_ri_train = np.hstack((x_ri, y_ri)) \n",
    "# ux_ri_train = b_ri[:,0, None]\n",
    "# uy_ri_train = b_ri[:,1, None]\n",
    "uy_ri_train = np.zeros([len(x_ri),1])\n",
    "Sxx_ri_train = np.zeros([len(x_ri),1])\n",
    "\n",
    "y_le = lhs(1,samples=N_bound,random_state=123)\n",
    "x_le = np.empty(len(y_le))[:,None]\n",
    "x_le.fill(0)\n",
    "b_le = np.empty([len(x_le),2])\n",
    "b_le[:,0, None] = u_x_ext(x_le, y_le)\n",
    "b_le[:,1, None] = u_y_ext(x_le, y_le)\n",
    "x_le_train = np.hstack((x_le, y_le))\n",
    "# ux_le_train = b_le[:,0, None]\n",
    "# uy_le_train = b_le[:,1, None]\n",
    "uy_le_train = np.zeros([len(x_le),1])\n",
    "Sxx_le_train = np.zeros([len(x_le),1])\n",
    "\n",
    "X_b_train = np.concatenate((x_up_train, x_lo_train, x_ri_train, x_le_train))\n",
    "X_train_list = [x_up_train, x_lo_train, x_ri_train, x_le_train]\n",
    "# ux_b_train = np.concatenate((ux_up_train, ux_lo_train, ux_ri_train, ux_le_train))\n",
    "# uy_b_train = np.concatenate((uy_up_train, uy_lo_train, uy_ri_train, uy_le_train))\n",
    "ux_b_train = np.concatenate((ux_up_train, ux_lo_train))\n",
    "uy_b_train = np.concatenate((uy_lo_train, uy_ri_train, uy_le_train))\n",
    "Sxx_b_train = np.concatenate((Sxx_ri_train, Sxx_le_train))\n",
    "Syy_b_train = Syy_up_train\n",
    "\n",
    "#########################################################################\n",
    "# collocation points for PINNs\n",
    "grid_pt = lhs(2,N_r)\n",
    "xf = grid_pt[:,0]\n",
    "yf = grid_pt[:,1]\n",
    "# ff_x = np.asarray([ f_x_ext(xf[j],yf[j]) for j in range(len(yf))])\n",
    "# ff_y = np.asarray([ f_y_ext(xf[j],yf[j]) for j in range(len(yf))])\n",
    "# f_x_train = ff_x\n",
    "# f_y_train = ff_y\n",
    "X_col_train = np.hstack((xf[:,None],yf[:,None]))"
   ]
  },
  {
   "cell_type": "code",
   "execution_count": 6,
   "metadata": {
    "colab": {
     "base_uri": "https://localhost:8080/"
    },
    "id": "G2Tgkg5fwcwe",
    "outputId": "d8285c79-6075-4583-fe76-4dba5a4fa325"
   },
   "outputs": [
    {
     "data": {
      "text/plain": [
       "(150, 1)"
      ]
     },
     "execution_count": 6,
     "metadata": {},
     "output_type": "execute_result"
    }
   ],
   "source": [
    "uy_b_train.shape"
   ]
  },
  {
   "cell_type": "code",
   "execution_count": 7,
   "metadata": {
    "id": "GRxzZGybrMGB"
   },
   "outputs": [],
   "source": [
    "# x = tf.Variable(X_col_train[:, 0:1], trainable=True)\n",
    "# y = tf.Variable(X_col_train[:, 1:2], trainable=True)"
   ]
  },
  {
   "cell_type": "markdown",
   "metadata": {
    "id": "Hl4GHQQcZEkl"
   },
   "source": [
    "Next, we illustrate the collocation points (red circles) and the positions where the boundary and initial conditions will be enforced (cross marks, color indicates value)."
   ]
  },
  {
   "cell_type": "code",
   "execution_count": 8,
   "metadata": {
    "colab": {
     "base_uri": "https://localhost:8080/",
     "height": 404
    },
    "id": "41dx-V98ZEkl",
    "outputId": "53b23b2b-f8ce-47a7-cb1d-7ebf6b6da409"
   },
   "outputs": [
    {
     "data": {
      "image/png": "[encoded data removed]",
      "text/plain": [
       "<Figure size 648x432 with 1 Axes>"
      ]
     },
     "metadata": {
      "needs_background": "light"
     },
     "output_type": "display_data"
    }
   ],
   "source": [
    "import matplotlib.pyplot as plt\n",
    "\n",
    "fig = plt.figure(figsize=(9,6))\n",
    "plt.scatter(X_b_train[:,0], X_b_train[:,1], c='blue', marker='X')\n",
    "plt.scatter(X_col_train[:,0], X_col_train[:,1], c='r', marker='.', alpha=0.1)\n",
    "plt.xlabel('$x$')\n",
    "plt.ylabel('$y$')\n",
    "\n",
    "plt.title('Positions of collocation points and boundary data');\n",
    "#plt.savefig('Xdata_Burgers.pdf', bbox_inches='tight', dpi=300)"
   ]
  },
  {
   "cell_type": "markdown",
   "metadata": {
    "id": "5G7wtusVZEkm"
   },
   "source": [
    "### 3. Set up network architecture"
   ]
  },
  {
   "cell_type": "code",
   "execution_count": 9,
   "metadata": {
    "id": "FcBMTSJLZEkm"
   },
   "outputs": [],
   "source": [
    "def init_model(num_hidden_layers=8, num_neurons_per_layer=20):\n",
    "    # Initialize a feedforward neural network\n",
    "    model = tf.keras.Sequential()\n",
    "\n",
    "    # Input is two-dimensional (two spatial dimensions)\n",
    "    model.add(tf.keras.Input(2))\n",
    "\n",
    "    # Introduce a scaling layer to map input to [lb, ub]\n",
    "    scaling_layer = tf.keras.layers.Lambda(\n",
    "                lambda x: 2.0*(x - lb)/(ub - lb) - 1.0)\n",
    "    model.add(scaling_layer)\n",
    "\n",
    "    # Append hidden layers\n",
    "    for _ in range(num_hidden_layers):\n",
    "        model.add(tf.keras.layers.Dense(num_neurons_per_layer,\n",
    "            activation=tf.keras.activations.get('tanh'),\n",
    "            kernel_initializer='glorot_normal'))\n",
    "\n",
    "    # Output is two-dimensional\n",
    "    model.add(tf.keras.layers.Dense(2))\n",
    "    \n",
    "    return model"
   ]
  },
  {
   "cell_type": "markdown",
   "metadata": {
    "id": "TmGvzbh-ZEkn"
   },
   "source": [
    "### 4. Define routines to determine loss and gradient\n"
   ]
  },
  {
   "cell_type": "code",
   "execution_count": 10,
   "metadata": {
    "id": "azOBDHMoZEkn"
   },
   "outputs": [],
   "source": [
    "# Define residual of the PDE in x direction\n",
    "def fun_r_x(x, y, ux_xx, ux_yy, ux_xy, uy_yy, uy_xx, uy_xy):\n",
    "    # return (lmda+2*mu)*ux_xx+lmda*uy_xy+mu*(ux_yy+uy_xy)-f_x_ext(x,y)\n",
    "    return (lmda+2*mu)*ux_xx+lmda*uy_xy+mu*(ux_yy+uy_xy)-f_x_ext(x,y)\n",
    "# Define residual of the PDE in y direction\n",
    "def fun_r_y(x, y, ux_xx, ux_yy, ux_xy, uy_yy, uy_xx, uy_xy):\n",
    "    return mu*(ux_xy+uy_xx)+(lmda+2*mu)*uy_yy+lmda*ux_xy-f_y_ext(x,y)\n",
    "    # return mu*(ux_xy+uy_xx)+(lmda+2*mu)*uy_yy+lmda*ux_xy-f_y_ext(x,y)\n",
    "\n",
    "def get_r(model, X_col_train):\n",
    "    # Split x and y to compute partial derivatives\n",
    "    x = tf.constant(X_col_train[:, 0:1])\n",
    "    y = tf.constant(X_col_train[:, 1:2])\n",
    "    # A tf.GradientTape is used to compute derivatives in TensorFlow\n",
    "    with tf.GradientTape(persistent=True) as tape1:\n",
    "        tape1.watch(x)\n",
    "        tape1.watch(y)\n",
    "        with tf.GradientTape(persistent=True) as tape2:\n",
    "#             # Variables x and y are watched during tape\n",
    "#             # to compute derivatives u_t and u_x\n",
    "            tape2.watch(x)\n",
    "            tape2.watch(y)\n",
    "            # Determine residual \n",
    "            U = model(tf.stack([x[:,0], y[:,0]], axis=1))\n",
    "            ux = U[:,0]\n",
    "            uy = U[:,1]\n",
    "    #         uy = model(tf.stack([x[:,0], y[:,0]], axis=1))\n",
    "            # Compute gradient u_x within the GradientTape\n",
    "            # since we need second derivatives\n",
    "        duxdx, duxdy = tape2.gradient(ux, (x,y))\n",
    "        duydx, duydy = tape2.gradient(uy, (x,y))\n",
    "#         duxdx = tape.gradient(ux, x)\n",
    "#         duydy = tape.gradient(uy, y)\n",
    "#         duydx = tape.gradient(uy, x)\n",
    "#         duxdy = tape.gradient(ux, y)        \n",
    "    ux_xx = tape1.gradient(duxdx, x)\n",
    "    ux_yy = tape1.gradient(duxdy, y)\n",
    "    ux_xy = tape1.gradient(duxdx, y)\n",
    "    uy_yy = tape1.gradient(duydy, y)\n",
    "    uy_xx = tape1.gradient(duydx, x)\n",
    "    uy_xy = tape1.gradient(duydx, y)\n",
    "    del tape1, tape2\n",
    "    return fun_r_x(x, y, ux_xx, ux_yy, ux_xy, uy_yy, uy_xx, uy_xy), fun_r_y(x, y, ux_xx, ux_yy, ux_xy, uy_yy, uy_xx, uy_xy)"
   ]
  },
  {
   "cell_type": "code",
   "execution_count": 11,
   "metadata": {
    "id": "Z-hZqxIarMGD"
   },
   "outputs": [],
   "source": [
    "# boundary condition with fixed displacement (Dirichlet boundary condition)\n",
    "def fun_b_r_ux(ux_up, ux_lo, ux_b_train):\n",
    "    # ux_b_temp = tf.stack([ux_up, ux_lo],axis=0)\n",
    "    return   tf.concat([ux_up, ux_lo], 0)-ux_b_train\n",
    "\n",
    "def fun_b_r_uy(uy_lo, uy_ri,uy_le, uy_b_train):\n",
    "    # uy_b_temp = tf.stack([uy_lo, uy_ri, uy_le],axis=0)\n",
    "    return  tf.concat([uy_lo, uy_ri, uy_le], 0)-uy_b_train\n",
    "\n",
    "def get_b_r_u(model, X_train_list, ux_b_train, uy_b_train):\n",
    "    x_up_train, x_lo_train, x_ri_train, x_le_train = X_train_list[0], \\\n",
    "                    X_train_list[1], X_train_list[2], X_train_list[3]\n",
    "    # Split t and x to compute partial derivatives\n",
    "    x_up, y_up = x_up_train[:, 0:1], x_up_train[:,1:2]\n",
    "    x_lo, y_lo = x_lo_train[:, 0:1], x_lo_train[:,1:2]\n",
    "    x_ri, y_ri = x_ri_train[:, 0:1], x_ri_train[:,1:2]\n",
    "    x_le, y_le = x_le_train[:, 0:1], x_le_train[:,1:2]\n",
    "    # Determine residual \n",
    "    U_up = model(tf.stack([x_up[:,0], y_up[:,0]], axis=1))\n",
    "    ux_up, _ = U_up[:,0], U_up[:,1]\n",
    "    U_lo = model(tf.stack([x_lo[:,0], y_lo[:,0]], axis=1))\n",
    "    ux_lo, uy_lo = U_lo[:,0], U_lo[:,1]\n",
    "    U_ri = model(tf.stack([x_ri[:,0], y_ri[:,0]], axis=1))\n",
    "    _, uy_ri = U_ri[:,0], U_ri[:,1]\n",
    "    U_le = model(tf.stack([x_le[:,0], y_le[:,0]], axis=1))\n",
    "    _, uy_le = U_le[:,0], U_le[:,1]\n",
    "    \n",
    "    return fun_b_r_ux(ux_up, ux_lo, ux_b_train), fun_b_r_uy(uy_lo, uy_ri,uy_le, uy_b_train)"
   ]
  },
  {
   "cell_type": "code",
   "execution_count": 12,
   "metadata": {
    "id": "REk2M6HOrMGE"
   },
   "outputs": [],
   "source": [
    "# boundary condition with fixed stress (Neumann boundary condition)\n",
    "def fun_b_r_Sxx(duxdx_ri,duydy_ri, duxdx_le, duydy_le, Sxx_b_train):\n",
    "    Sxx_ri = (lmda+2*mu)*duxdx_ri + lmda*duydy_ri\n",
    "    Sxx_le = (lmda+2*mu)*duxdx_le + lmda*duydy_le\n",
    "    # Sxx_b_temp = np.concatenate((Sxx_ri, Sxx_le))\n",
    "    return tf.concat([Sxx_ri,Sxx_le], 0)-Sxx_b_train\n",
    "\n",
    "def fun_b_r_Syy(duxdx_up, duydy_up, Syy_b_train):\n",
    "    Syy_b_temp = (lmda+2*mu)*duydy_up + lmda*duxdx_up\n",
    "    return Syy_b_temp-Syy_b_train\n",
    "\n",
    "def get_b_r_S(model,X_train_list , Sxx_b_train, Syy_b_train):\n",
    "    x_up_train, x_lo_train, x_ri_train, x_le_train = X_train_list[0], \\\n",
    "                    X_train_list[1], X_train_list[2], X_train_list[3]\n",
    "    # A tf.GradientTape is used to compute derivatives in TensorFlow\n",
    "\n",
    "    x_up = tf.constant(x_up_train[:, 0:1])\n",
    "    y_up = tf.constant(x_up_train[:, 1:2])\n",
    "    with tf.GradientTape(persistent=True) as tape:\n",
    "      # Split t and x to compute partial derivatives\n",
    "\n",
    "        # Variables t and x are watched during tape\n",
    "        # to compute derivatives u_t and u_x\n",
    "        tape.watch(x_up)\n",
    "        tape.watch(y_up)\n",
    "\n",
    "        # Determine residual \n",
    "        U_up = model(tf.stack([x_up[:,0], y_up[:,0]], axis=1))\n",
    "        ux_up = U_up[:,0]\n",
    "        uy_up = U_up[:,1]\n",
    "\n",
    "    duxdx_up = tape.gradient(ux_up, x_up)\n",
    "    duydy_up = tape.gradient(uy_up, y_up)\n",
    "    del tape\n",
    "    \n",
    "    x_ri = tf.constant(x_ri_train[:, 0:1])\n",
    "    y_ri = tf.constant(x_ri_train[:, 1:2])\n",
    "    with tf.GradientTape(persistent=True) as tape:\n",
    "        # x_ri, y_ri = x_ri_train[:, 0:1], x_ri_train[:,1:2]\n",
    "        tape.watch(x_ri)\n",
    "        tape.watch(y_ri)\n",
    "        U_ri = model(tf.stack([x_ri[:,0], y_ri[:,0]], axis=1))\n",
    "        ux_ri = U_ri[:,0]\n",
    "        uy_ri = U_ri[:,1]\n",
    "\n",
    "    duxdx_ri = tape.gradient(ux_ri, x_ri)\n",
    "    duydy_ri = tape.gradient(uy_ri, y_ri)\n",
    "    del tape\n",
    "    \n",
    "    x_le = tf.constant(x_le_train[:, 0:1])\n",
    "    y_le = tf.constant(x_le_train[:, 1:2])\n",
    "    with tf.GradientTape(persistent=True) as tape:\n",
    "        # x_le, y_le = x_le_train[:, 0:1], x_le_train[:,1:2]\n",
    "        tape.watch(x_le)\n",
    "        tape.watch(y_le)\n",
    "        U_le = model(tf.stack([x_le[:,0], y_le[:,0]], axis=1))\n",
    "        ux_le = U_le[:,0]\n",
    "        uy_le = U_le[:,1]\n",
    "\n",
    "    duxdx_le = tape.gradient(ux_le, x_le)\n",
    "    duydy_le = tape.gradient(uy_le, y_le)\n",
    "    del tape\n",
    "    \n",
    "    return fun_b_r_Sxx(duxdx_ri,duydy_ri, duxdx_le, duydy_le, Sxx_b_train), fun_b_r_Syy(duxdx_up, duydy_up, Syy_b_train)"
   ]
  },
  {
   "cell_type": "markdown",
   "metadata": {
    "id": "DRk8r7bkZEkn"
   },
   "source": [
    "## The next function computes the loss for our model\n"
   ]
  },
  {
   "cell_type": "code",
   "execution_count": 13,
   "metadata": {
    "id": "2JfHWgDqZEko"
   },
   "outputs": [],
   "source": [
    "def compute_loss(model, X_col_train, X_train_list, ux_b_train, uy_b_train, Sxx_b_train, Syy_b_train):\n",
    "    x_up_train, x_lo_train, x_ri_train, x_le_train = X_train_list[0],\\\n",
    "                    X_train_list[1], X_train_list[2], X_train_list[3]\n",
    "    # Compute phi^r\n",
    "    rx, ry = get_r(model, X_col_train)\n",
    "    phi_r = tf.reduce_mean(tf.square(rx)) + tf.reduce_mean(tf.square(ry))\n",
    "        \n",
    "    # Compute phi^b\n",
    "    r_ux, r_uy = get_b_r_u(model, X_train_list, ux_b_train, uy_b_train)\n",
    "    phi_r_u = tf.reduce_mean(tf.square(r_ux)) + tf.reduce_mean(tf.square(r_uy))\n",
    "    \n",
    "    # Compute phi^b\n",
    "    r_Sxx, r_Syy = get_b_r_S(model, X_train_list, Sxx_b_train, Syy_b_train)\n",
    "    phi_r_S = tf.reduce_mean(tf.square(r_Sxx)) + tf.reduce_mean(tf.square(r_Syy))\n",
    "    \n",
    "    loss = phi_r + phi_r_u + phi_r_S\n",
    "#     # Add phi^b to the loss\n",
    "#     for i in range(len(X_data)):\n",
    "#         u_pred = model(X_data[i])\n",
    "#         loss += tf.reduce_mean(tf.square(u_data[i] - u_pred))\n",
    "    \n",
    "    return loss"
   ]
  },
  {
   "cell_type": "code",
   "execution_count": 14,
   "metadata": {
    "id": "uVM2FNj3ZEko"
   },
   "outputs": [],
   "source": [
    "def get_grad(model, X_col_train, X_train_list, ux_b_train, uy_b_train, Sxx_b_train, Syy_b_train):\n",
    "    \n",
    "    with tf.GradientTape(persistent=True) as tape:\n",
    "        # This tape is for derivatives with\n",
    "        # respect to trainable variables\n",
    "        tape.watch(model.trainable_variables)\n",
    "        loss = compute_loss(model, X_col_train, X_train_list, ux_b_train, uy_b_train, Sxx_b_train, Syy_b_train)\n",
    "\n",
    "    g = tape.gradient(loss, model.trainable_variables)\n",
    "    del tape\n",
    "\n",
    "    return loss, g"
   ]
  },
  {
   "cell_type": "markdown",
   "metadata": {
    "id": "km6-MigNZEkp"
   },
   "source": [
    "### 5. Set up optimizer and train model"
   ]
  },
  {
   "cell_type": "markdown",
   "metadata": {
    "id": "wWOCbS4mZEkp"
   },
   "source": [
    "Next we initialize the model, set the learning rate to the step function\n"
   ]
  },
  {
   "cell_type": "code",
   "execution_count": 15,
   "metadata": {
    "id": "XFmQx3yRZEkp"
   },
   "outputs": [],
   "source": [
    "# Initialize model aka u_\\theta\n",
    "model = init_model()\n",
    "\n",
    "# model.summary()\n",
    "# print(model.trainable_variables)\n",
    "# We choose a piecewise decay of the learning rate, i.e., the\n",
    "# step size in the gradient descent type algorithm\n",
    "# the first 1000 steps use a learning rate of 0.01\n",
    "# from 1000 - 3000: learning rate = 0.001\n",
    "# from 3000 onwards: learning rate = 0.0005\n",
    "\n",
    "lr = tf.keras.optimizers.schedules.PiecewiseConstantDecay([1000,3000],[1e-2,1e-3,5e-4])\n",
    "\n",
    "# Choose the optimizer\n",
    "optim = tf.keras.optimizers.Adam(learning_rate=lr)"
   ]
  },
  {
   "cell_type": "markdown",
   "metadata": {
    "id": "V8lVzpJLZEkp"
   },
   "source": [
    "Train the model for $N=5000$ epochs (takes approximately 3 minutes).\n",
    "Here, we set up a function `train_step()` which performs one training step.\n",
    "\n",
    "*Note*: The `@tf.function` is a so-called `Decorator` within Python. This particular decorator redefines the function that follows, in our case `train_step`, as a TensorFlow graph which may speed up the training significantly."
   ]
  },
  {
   "cell_type": "code",
   "execution_count": 16,
   "metadata": {
    "colab": {
     "base_uri": "https://localhost:8080/"
    },
    "id": "Txvp_tlxZEkq",
    "outputId": "59706a38-8840-4736-8ef8-731bf534269d"
   },
   "outputs": [
    {
     "name": "stdout",
     "output_type": "stream",
     "text": [
      "It 00000: loss = 2.10202261e+03\n",
      "It 00050: loss = 1.75571669e+02\n",
      "It 00100: loss = 3.27230596e+01\n",
      "It 00150: loss = 9.76664536e+00\n",
      "It 00200: loss = 1.00850947e+01\n",
      "It 00250: loss = 5.13499430e+00\n",
      "It 00300: loss = 3.94852292e+00\n",
      "It 00350: loss = 8.64673991e+00\n",
      "It 00400: loss = 4.16675840e+00\n",
      "It 00450: loss = 2.81842349e+00\n",
      "It 00500: loss = 1.60440092e+01\n",
      "It 00550: loss = 2.72966779e+00\n",
      "It 00600: loss = 4.80360748e+00\n",
      "It 00650: loss = 2.58186003e+00\n",
      "It 00700: loss = 4.26537311e+00\n",
      "It 00750: loss = 3.48312037e+00\n",
      "It 00800: loss = 4.07296326e+00\n",
      "It 00850: loss = 9.47293054e+00\n",
      "It 00900: loss = 2.57356315e+00\n",
      "It 00950: loss = 1.02607199e+00\n",
      "It 01000: loss = 3.20105059e+00\n",
      "It 01050: loss = 4.51869770e-01\n",
      "It 01100: loss = 4.17943544e-01\n",
      "It 01150: loss = 4.10612546e-01\n",
      "It 01200: loss = 4.03763681e-01\n",
      "It 01250: loss = 3.97226667e-01\n",
      "It 01300: loss = 3.90921038e-01\n",
      "It 01350: loss = 3.84801180e-01\n",
      "It 01400: loss = 3.78838036e-01\n",
      "It 01450: loss = 3.73011544e-01\n",
      "It 01500: loss = 3.67306888e-01\n",
      "It 01550: loss = 3.61712452e-01\n",
      "It 01600: loss = 3.56218667e-01\n",
      "It 01650: loss = 3.50817339e-01\n",
      "It 01700: loss = 3.45501266e-01\n",
      "It 01750: loss = 3.40264012e-01\n",
      "It 01800: loss = 3.35099776e-01\n",
      "It 01850: loss = 3.30003309e-01\n",
      "It 01900: loss = 3.24969856e-01\n",
      "It 01950: loss = 3.19995116e-01\n",
      "It 02000: loss = 3.15075207e-01\n",
      "It 02050: loss = 3.10206635e-01\n",
      "It 02100: loss = 3.05386264e-01\n",
      "It 02150: loss = 3.00611296e-01\n",
      "It 02200: loss = 2.95879238e-01\n",
      "It 02250: loss = 2.91187892e-01\n",
      "It 02300: loss = 2.86535326e-01\n",
      "It 02350: loss = 2.81919863e-01\n",
      "It 02400: loss = 2.77340063e-01\n",
      "It 02450: loss = 2.72794710e-01\n",
      "It 02500: loss = 2.68282802e-01\n",
      "It 02550: loss = 2.63803534e-01\n",
      "It 02600: loss = 2.59356292e-01\n",
      "It 02650: loss = 2.54940644e-01\n",
      "It 02700: loss = 2.50556327e-01\n",
      "It 02750: loss = 2.46203236e-01\n",
      "It 02800: loss = 2.41881420e-01\n",
      "It 02850: loss = 2.37591067e-01\n",
      "It 02900: loss = 2.33332497e-01\n",
      "It 02950: loss = 2.29106150e-01\n",
      "It 03000: loss = 2.24912575e-01\n",
      "It 03050: loss = 2.22776210e-01\n",
      "It 03100: loss = 2.20663627e-01\n",
      "It 03150: loss = 2.18532896e-01\n",
      "It 03200: loss = 2.16384588e-01\n",
      "It 03250: loss = 2.14219296e-01\n",
      "It 03300: loss = 2.12037636e-01\n",
      "It 03350: loss = 2.09840242e-01\n",
      "It 03400: loss = 2.07627770e-01\n",
      "It 03450: loss = 2.05400897e-01\n",
      "It 03500: loss = 2.03160320e-01\n",
      "It 03550: loss = 2.00906757e-01\n",
      "It 03600: loss = 1.98640948e-01\n",
      "It 03650: loss = 1.96363651e-01\n",
      "It 03700: loss = 1.94075643e-01\n",
      "It 03750: loss = 1.91777724e-01\n",
      "It 03800: loss = 1.89470709e-01\n",
      "It 03850: loss = 1.87155432e-01\n",
      "It 03900: loss = 1.84832746e-01\n",
      "It 03950: loss = 1.82503517e-01\n",
      "It 04000: loss = 1.80168629e-01\n",
      "It 04050: loss = 1.77828979e-01\n",
      "It 04100: loss = 1.75485477e-01\n",
      "It 04150: loss = 1.73139046e-01\n",
      "It 04200: loss = 1.70790616e-01\n",
      "It 04250: loss = 1.68441131e-01\n",
      "It 04300: loss = 1.66091538e-01\n",
      "It 04350: loss = 1.63742792e-01\n",
      "It 04400: loss = 1.61395852e-01\n",
      "It 04450: loss = 1.59051679e-01\n",
      "It 04500: loss = 1.56711235e-01\n",
      "It 04550: loss = 1.54375479e-01\n",
      "It 04600: loss = 1.52045367e-01\n",
      "It 04650: loss = 1.49721852e-01\n",
      "It 04700: loss = 1.47405874e-01\n",
      "It 04750: loss = 1.45098368e-01\n",
      "It 04800: loss = 1.42800252e-01\n",
      "It 04850: loss = 1.40512431e-01\n",
      "It 04900: loss = 1.38235793e-01\n",
      "It 04950: loss = 1.35971203e-01\n",
      "It 05000: loss = 1.33719506e-01\n",
      "\n",
      "Computation time: 119.22876310348511 seconds\n"
     ]
    }
   ],
   "source": [
    "from time import time\n",
    "\n",
    "# Define one training step as a TensorFlow function to increase speed of training\n",
    "@tf.function\n",
    "def train_step():\n",
    "    # Compute current loss and gradient w.r.t. parameters\n",
    "    loss, grad_theta = get_grad(model, X_col_train,X_train_list,ux_b_train, uy_b_train, Sxx_b_train, Syy_b_train)\n",
    "    \n",
    "    # Perform gradient descent step\n",
    "    optim.apply_gradients(zip(grad_theta, model.trainable_variables))\n",
    "    \n",
    "    return loss\n",
    "\n",
    "# Number of training epochs\n",
    "N = 5000\n",
    "hist = []\n",
    "\n",
    "# Start timer\n",
    "t0 = time()\n",
    "\n",
    "for i in range(N+1):\n",
    "#     print(i)\n",
    "    loss = train_step()\n",
    "    if i==0:\n",
    "      loss0 = loss\n",
    "    # Append current loss to hist\n",
    "    hist.append(loss.numpy()/loss0.numpy())\n",
    "    \n",
    "    # Output current loss after 50 iterates\n",
    "    if i%50 == 0:\n",
    "        print('It {:05d}: loss = {:10.8e}'.format(i,loss))\n",
    "        \n",
    "# Print computation time\n",
    "print('\\nComputation time: {} seconds'.format(time()-t0))"
   ]
  },
  {
   "cell_type": "markdown",
   "metadata": {
    "id": "9t16YkAOZEkq"
   },
   "source": [
    "### Plot solution"
   ]
  },
  {
   "cell_type": "code",
   "execution_count": 17,
   "metadata": {
    "colab": {
     "base_uri": "https://localhost:8080/",
     "height": 441
    },
    "id": "IHlpz-ZtZEkq",
    "outputId": "1a1ef5e7-1a6a-4833-99a4-55af1493c0db"
   },
   "outputs": [
    {
     "name": "stderr",
     "output_type": "stream",
     "text": [
      "C:\\Users\\jungangc\\AppData\\Local\\Temp/ipykernel_26784/948392387.py:19: MatplotlibDeprecationWarning: shading='flat' when X and Y have the same dimensions as C is deprecated since 3.3.  Either specify the corners of the quadrilaterals with X and Y, or pass shading='auto', 'nearest' or 'gouraud', or set rcParams['pcolor.shading'].  This will become an error two minor releases later.\n",
      "  im = ax[0].pcolor(X, Y, Ux, cmap='seismic', vmin=-0.8, vmax=0.8)\n",
      "C:\\Users\\jungangc\\AppData\\Local\\Temp/ipykernel_26784/948392387.py:20: MatplotlibDeprecationWarning: shading='flat' when X and Y have the same dimensions as C is deprecated since 3.3.  Either specify the corners of the quadrilaterals with X and Y, or pass shading='auto', 'nearest' or 'gouraud', or set rcParams['pcolor.shading'].  This will become an error two minor releases later.\n",
      "  im = ax[1].pcolor(X, Y, Uy, cmap='seismic', vmin=-0.8, vmax=0.8)\n"
     ]
    },
    {
     "data": {
      "image/png": "[encoded data removed]",
      "text/plain": [
       "<Figure size 864x432 with 3 Axes>"
      ]
     },
     "metadata": {
      "needs_background": "light"
     },
     "output_type": "display_data"
    }
   ],
   "source": [
    "\n",
    "# Set up meshgrid\n",
    "N = 600\n",
    "xspace = np.linspace(lb[0], ub[0], N + 1)\n",
    "yspace = np.linspace(lb[1], ub[1], N + 1)\n",
    "X, Y = np.meshgrid(xspace, yspace)\n",
    "Xgrid = np.vstack([X.flatten(),Y.flatten()]).T\n",
    "\n",
    "# Determine predictions of u(t, x)\n",
    "Upred = model(tf.cast(Xgrid,DTYPE))\n",
    "ux_pred = Upred[:,0]\n",
    "uy_pred = Upred[:,1]\n",
    "\n",
    "# Reshape upred\n",
    "Ux = ux_pred.numpy().reshape(N+1,N+1)\n",
    "Uy = uy_pred.numpy().reshape(N+1,N+1)\n",
    "\n",
    "# Surface plot of solution u(t,x)\n",
    "fig,ax = plt.subplots(1,2,figsize=(12,6))\n",
    "im = ax[0].pcolor(X, Y, Ux, cmap='seismic', vmin=-0.8, vmax=0.8)\n",
    "im = ax[1].pcolor(X, Y, Uy, cmap='seismic', vmin=-0.8, vmax=0.8)\n",
    "plt.colorbar(im, ticks=np.linspace(-0.8, 0.8, 5))\n",
    "\n",
    "fig.tight_layout()\n",
    "plt.show()\n",
    "\n",
    "#plt.savefig('Burgers_Solution.pdf', bbox_inches='tight', dpi=300);"
   ]
  },
  {
   "cell_type": "markdown",
   "metadata": {
    "id": "zFt09HjnZEkq"
   },
   "source": [
    "### Plot the evolution of loss"
   ]
  },
  {
   "cell_type": "code",
   "execution_count": 18,
   "metadata": {
    "colab": {
     "base_uri": "https://localhost:8080/",
     "height": 390
    },
    "id": "jTuOcgq1ZEkr",
    "outputId": "e5c96eb1-361d-45f9-c5c4-fa345b5d1351"
   },
   "outputs": [
    {
     "data": {
      "image/png": "[encoded data removed]",
      "text/plain": [
       "<Figure size 648x432 with 1 Axes>"
      ]
     },
     "metadata": {
      "needs_background": "light"
     },
     "output_type": "display_data"
    }
   ],
   "source": [
    "fig = plt.figure(figsize=(9,6))\n",
    "ax = fig.add_subplot(111)\n",
    "ax.semilogy(range(len(hist)), hist,'k-')\n",
    "ax.set_xlabel('$n_{epoch}$')\n",
    "ax.set_ylabel('$\\\\phi_{n_{epoch}}$');"
   ]
  },
  {
   "cell_type": "markdown",
   "metadata": {
    "id": "jK_IOlTjZEkr"
   },
   "source": [
    "## Class implementation of PINNs"
   ]
  },
  {
   "cell_type": "markdown",
   "metadata": {
    "id": "7_HS1CbvZEkr"
   },
   "source": [
    "In this section, we implement PINNs as a class which can be used for further testing. Here, we derive the class `PINN_NeuralNet` from `tf.keras.Model`.\n",
    "\n",
    "Required arguments are the lower bound `lb` and upper bound `ub`."
   ]
  }
 ],
 "metadata": {
  "accelerator": "GPU",
  "celltoolbar": "Edit Metadata",
  "colab": {
   "collapsed_sections": [],
   "provenance": []
  },
  "gpuClass": "standard",
  "kernelspec": {
   "display_name": "Python 3 (ipykernel)",
   "language": "python",
   "name": "python3"
  },
  "language_info": {
   "codemirror_mode": {
    "name": "ipython",
    "version": 3
   },
   "file_extension": ".py",
   "mimetype": "text/x-python",
   "name": "python",
   "nbconvert_exporter": "python",
   "pygments_lexer": "ipython3",
   "version": "3.9.7"
  }
 },
 "nbformat": 4,
 "nbformat_minor": 1
}
